{
 "cells": [
  {
   "cell_type": "markdown",
   "metadata": {},
   "source": [
    "## Project OpenStreet Map Data Wrangling - Summary"
   ]
  },
  {
   "cell_type": "markdown",
   "metadata": {},
   "source": [
    "#### Map Area\n",
    "\n",
    "New York, NY, US\n",
    "\n",
    "- [https://mapzen.com/data/metro-extracts/metro/new-york_new-york/](https://mapzen.com/data/metro-extracts/metro/new-york_new-york/)\n",
    "\n",
    "This is the place that I am most familiar in United States, and I do have strong interest to see what the OpenStreet Map Data reveals in this Metro Area.\n",
    "\n",
    "<img src=\"img/image.png\" alt=\"Drawing\" style=\"width: 400px;\"/>\n"
   ]
  },
  {
   "cell_type": "markdown",
   "metadata": {},
   "source": [
    "For OpenStreetMap structure, it represents physical features on the ground (e.g., roads or buildings) using tags attached to its basic data structures (its nodes, ways, and relations). Each tag describes a geographic attribute of the feature being shown by that specific node, way or relation.\n",
    "\n",
    "- Node: a node is one of the core elements in the OpenStreetMap data model. It consists of a single point in space defined by its latitude, longitude and node id.\n",
    "\n",
    "\n",
    "- Way: a way is an ordered list of nodes which normally also has at least one tag or is included within a Relation.A way can be open or closed. A closed way is one whose last node on the way is also the first on that way. A closed way may be interpreted either as a closed polyline, or an area, or both.\n",
    "\n",
    "\n",
    "- Relation: a relation is one of the core data elements that consists of one or more tags and also an ordered list of one or more nodes, ways and/or relations as members which is used to define logical or geographic relationships between other elements. A member of a relation can optionally have a role which describes the part that a particular feature plays within a relation.\n"
   ]
  },
  {
   "cell_type": "markdown",
   "metadata": {},
   "source": [
    "#### Summary"
   ]
  },
  {
   "cell_type": "markdown",
   "metadata": {},
   "source": [
    "Based on the map data, the most important factor is the address, which directly determine the map data quality. In this project, I was desired to check out the data issues especially the relevant location info in the map, and went through the audit, update, transformation, as well as some further analysis in MongoDB after import.\n",
    "\n",
    "For the address info, based on the my mongodb database, it generally includes\n",
    "- state\n",
    "- city\n",
    "- street\n",
    "- postcode\n",
    "- housenumber\n",
    "\n",
    "And I will organize the data qualities issue associated with the top four factors as the housenumber is hard to tell."
   ]
  },
  {
   "cell_type": "markdown",
   "metadata": {},
   "source": [
    "#### Data Quality Issues in My Intrest Region"
   ]
  },
  {
   "cell_type": "markdown",
   "metadata": {},
   "source": [
    "- State Name: Capitalization and abbreviation are the major issues. Others might be misgrouped like string info or the zipcode info.\n",
    "\n",
    "- Street Name: The street names are very inconsistent, which include the abbreviation inconsistency, extra ending letters, capitalization, and type error issues.\n",
    "\n",
    "- City Name: City names do have the same issue as the street name, and capitalization, type error, abbreviation, and extra ending letters are need to be fixed too.\n",
    "\n",
    "- Postcode: In general the zipcode info is not that bad, only 10 zipcodes include the extension and have more than 5-digit, which is much easier to repair in the Mongo.\n"
   ]
  },
  {
   "cell_type": "markdown",
   "metadata": {},
   "source": [
    "#### Data Preprocessing, Auditing, Update"
   ]
  },
  {
   "cell_type": "markdown",
   "metadata": {},
   "source": [
    "Based on the summarized data quality issues, I planned to audit the city and street name using regular expression, summarized the problem we have and update them to make sure they all consistent. Then we will transform the file to json and import to Mongo for futher analysis and management. For this part the whole process I will put it in another file.\n",
    "Here is the detailed processing part [Link](http://localhost:8888/notebooks/Desktop/project/Udacity/data_analyst/data_Wrangling/OpenstreetMap/Project%20OpenStreet%20Map%20Data%20Wrangling%20-%20Processing%20Part.ipynb)"
   ]
  },
  {
   "cell_type": "markdown",
   "metadata": {},
   "source": [
    "### Overview of the Dataset"
   ]
  },
  {
   "cell_type": "markdown",
   "metadata": {},
   "source": [
    "After importing the map file into MongoDB, I will take advantage of the query in MongoDB to explore our dataset to get more info."
   ]
  },
  {
   "cell_type": "markdown",
   "metadata": {},
   "source": [
    "##### Size of the Data"
   ]
  },
  {
   "cell_type": "markdown",
   "metadata": {},
   "source": [
    "First, after we import the data, I'd like to know the the general info about the New York dataset for open street map."
   ]
  },
  {
   "cell_type": "markdown",
   "metadata": {},
   "source": [
    "The original dataset is 2.83G, and the json file it generated is about 4.35GB. For the actual collection we had in the mongodb is \n",
    "   > db.map.dataSize()\n",
    "    \n",
    "    > 4821778202 "
   ]
  },
  {
   "cell_type": "markdown",
   "metadata": {},
   "source": [
    "##### Number of distinct users\n",
    "Here is another way we could check how many distinct users we had\n",
    "> db.map.distinct(\"created.user\").length\n",
    "\n",
    "> 5183"
   ]
  },
  {
   "cell_type": "markdown",
   "metadata": {},
   "source": [
    "##### Number of records"
   ]
  },
  {
   "cell_type": "markdown",
   "metadata": {},
   "source": [
    "Another way to check the number of nodes and ways. The dataset contains 11578310 nodes and 1816197 ways.\n",
    "\n",
    "> db.map.distinct(\"id\").length\n",
    "\n",
    "> db.map.find( { type: \"node\" } ).length()\n",
    "\n",
    "> db.map.find( { type: \"way\" } ).length()\n"
   ]
  },
  {
   "cell_type": "markdown",
   "metadata": {},
   "source": [
    "##### Number of chosen type of nodes"
   ]
  },
  {
   "cell_type": "markdown",
   "metadata": {},
   "source": [
    "###### 1. Top contributing user: Rub21_nycbuildings"
   ]
  },
  {
   "cell_type": "markdown",
   "metadata": {},
   "source": [
    "\n",
    "    db.map.aggregate([\n",
    "     {$match:{'created.user':{$exists:1}}},{\"$group:{\"_id\":\"$created.user\", \"count\":{'$sum':1}}}, {\"$sort\": {\"count\":-1}},{$limit:1}])\n"
   ]
  },
  {
   "cell_type": "markdown",
   "metadata": {},
   "source": [
    "###### 2. Which county has more info? "
   ]
  },
  {
   "cell_type": "markdown",
   "metadata": {},
   "source": [
    "The top five counties are New York, Nassau, Kings, Bronx, and Queens"
   ]
  },
  {
   "cell_type": "markdown",
   "metadata": {},
   "source": [
    "    db.map.aggregate([\n",
    "    {\"$group\":{\"_id\":\"$gnis:county_name\", \"count\":{'$sum':1}}}, {\"$sort\": {\"count\":-1}}\n",
    "    ])"
   ]
  },
  {
   "cell_type": "markdown",
   "metadata": {},
   "source": [
    "###### 3. What's the most frequently appeared amenity in the New York Open Street Map?"
   ]
  },
  {
   "cell_type": "markdown",
   "metadata": {},
   "source": [
    "The top five amenities in the openstreet map are parking, bicycle parking,  place of worship, school and restaurant."
   ]
  },
  {
   "cell_type": "markdown",
   "metadata": {},
   "source": [
    "    db.map.aggregate([\n",
    "    {\"$group\":{\"_id\":\"$amenity\", \"count\":{'$sum':1}}}, {\"$sort\":{\"count\":-1}}])"
   ]
  },
  {
   "cell_type": "markdown",
   "metadata": {},
   "source": [
    "#### Analysis on the Restaurant with Visualization"
   ]
  },
  {
   "cell_type": "markdown",
   "metadata": {},
   "source": [
    "Based on the info we had in openstreet map, here I want to dive deep into to look at the restaurant data. Here I simply check which type of cuisine is more popular/ more appeared frequently in our dataset."
   ]
  },
  {
   "cell_type": "markdown",
   "metadata": {},
   "source": [
    "    db.map.aggregate([{\"$match\":{\"amenity\":'restaurant'}},{\"$group\":{\"_id\":\"$cuisine\", \"count\":{\"$sum\":1}}},{\"$sort\":{\"count\":-1}},{\"$limit\":10}])"
   ]
  },
  {
   "cell_type": "markdown",
   "metadata": {},
   "source": [
    "The list I got are Italian, American, Pizza, Mexican, and Chinese based on their existent frequence in the open street map,which I will show the visualization below."
   ]
  },
  {
   "cell_type": "code",
   "execution_count": 1,
   "metadata": {},
   "outputs": [
    {
     "name": "stderr",
     "output_type": "stream",
     "text": [
      "/Users/apple/anaconda/envs/py2Udacity/lib/python2.7/site-packages/matplotlib/font_manager.py:273: UserWarning: Matplotlib is building the font cache using fc-list. This may take a moment.\n",
      "  warnings.warn('Matplotlib is building the font cache using fc-list. This may take a moment.')\n"
     ]
    }
   ],
   "source": [
    "import matplotlib.pyplot as plt\n",
    "import seaborn as sns\n",
    "import pandas as pd\n",
    "from pymongo import MongoClient\n",
    "\n",
    "# Connection\n",
    "client=MongoClient('localhost',27017)\n",
    "\n",
    "#setup database\n",
    "mydb=client['udacitymap']\n",
    "\n",
    "# Query databasename.table_name.\n",
    "#mydb.map.aggregate({})\n",
    "\n",
    "Result=mydb.map.aggregate([{\"$match\":{\"amenity\":'restaurant'}},{\"$group\":{\"_id\":\"$cuisine\", \"count\":{\"$sum\":1}}},{\"$sort\":{\"count\":-1}},{\"$limit\":10}])\n"
   ]
  },
  {
   "cell_type": "code",
   "execution_count": 2,
   "metadata": {
    "collapsed": true
   },
   "outputs": [],
   "source": [
    "RESULT=[]\n",
    "for i in Result:\n",
    "    RESULT.append({\"Type of Cuisine\":i[\"_id\"],\"Popularity\":i['count']})"
   ]
  },
  {
   "cell_type": "code",
   "execution_count": 3,
   "metadata": {
    "collapsed": true
   },
   "outputs": [],
   "source": [
    "df=pd.DataFrame(RESULT)\n",
    "#df"
   ]
  },
  {
   "cell_type": "code",
   "execution_count": 4,
   "metadata": {},
   "outputs": [
    {
     "data": {
      "image/png": "[encoded data removed]",
      "text/plain": [
       "<matplotlib.figure.Figure at 0x104402cd0>"
      ]
     },
     "metadata": {},
     "output_type": "display_data"
    }
   ],
   "source": [
    "# dataset loading - for the data frame, it works for the seaborn//\n",
    "# for other read in, it might need to yse sns.load_dataset()\n",
    "\n",
    "#dataset=sns.load_dataset(df)\n",
    "\n",
    "sns.set(style='ticks')\n",
    "g=sns.barplot(x=\"Popularity\",y=\"Type of Cuisine\",data=df,color='c')\n",
    "\n",
    "plt.show()"
   ]
  },
  {
   "cell_type": "markdown",
   "metadata": {},
   "source": [
    "##### Suggestion"
   ]
  },
  {
   "cell_type": "markdown",
   "metadata": {},
   "source": [
    "As what we could see above, in the existent restaurants on openstreet map, there are still a lot type of cuisine info that were missing. If we could use either yelp or google API, it will help us to bring more useful info. \n",
    "\n",
    "This issue also exist in other amenities and might be worse, like parkings. If we could bring more info like the capacity, operation hours either from the drivers like taxi or uber drivers, or corporated with some companies like car rent or uber to share the mapping info and let them to collect those info.\n",
    "\n",
    "Another issue about the data quality itself as the whole process suffered, if we could set up certain standards to check out the uploading info when the users collected and input, it would be much better for the map data quality. \n"
   ]
  },
  {
   "cell_type": "markdown",
   "metadata": {},
   "source": [
    "#### Review"
   ]
  },
  {
   "cell_type": "markdown",
   "metadata": {},
   "source": [
    "The whole process especially from the transformation to the mongoDB, I went through the whole process on how the data is explored, preprocessed,and organized into the database.\n",
    "\n",
    "The messy data require too much efforts to organize and reorganize. In the open street map dataset, there are too many inconsistency, and what I checked is the address part that might be more important in the street map. Those inconsistency might bring less info that rooted in the dataset, and it takes time to find those inconsistency and reconcile them.\n",
    "\n",
    "> For the benifits of this improvement,\n",
    "\n",
    "- It will be helpful to make the data more prepared and well cleaned to be used in different analysis, especially the analysis based on geoinfo.\n",
    "\n",
    "\n",
    "- Allowing continuous updating and quality control in the MongoDB.\n",
    "\n",
    "> Anticipated Problems:\n",
    "\n",
    "- Processing speed: the file I choosed is 2.83 G in total, and I choose to only update city and street names, but it still takes too much time when loop all the records in the dataset. If we decide to apply the improvement to the whole open street map, we might need to think about the optimized algorithm or adopted Map reduce to level up the processing speed, which would be helpful to the implementation.\n",
    "\n",
    "\n",
    "- There are some location data not starting with addr but gnis, which are not put in the address part in Mongo. It might make the dataset a little bit unorganized. But if we decide to put them in, if they are related to the same category like city name, but their value is different, how do we adjust it. The way I had right now is to put them also in the address part with gnis in their keys.\n"
   ]
  },
  {
   "cell_type": "code",
   "execution_count": null,
   "metadata": {
    "collapsed": true
   },
   "outputs": [],
   "source": []
  },
  {
   "cell_type": "code",
   "execution_count": null,
   "metadata": {
    "collapsed": true
   },
   "outputs": [],
   "source": []
  }
 ],
 "metadata": {
  "kernelspec": {
   "display_name": "Python [conda env:py2Udacity]",
   "language": "python",
   "name": "conda-env-py2Udacity-py"
  },
  "language_info": {
   "codemirror_mode": {
    "name": "ipython",
    "version": 2
   },
   "file_extension": ".py",
   "mimetype": "text/x-python",
   "name": "python",
   "nbconvert_exporter": "python",
   "pygments_lexer": "ipython2",
   "version": "2.7.12"
  }
 },
 "nbformat": 4,
 "nbformat_minor": 2
}
